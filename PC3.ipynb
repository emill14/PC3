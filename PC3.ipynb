{
 "cells": [
  {
   "cell_type": "code",
   "execution_count": 1,
   "id": "67b7c1a9",
   "metadata": {},
   "outputs": [],
   "source": [
    "# Alumna: Emilly Gomez Puma\n",
    "# 20200322"
   ]
  },
  {
   "cell_type": "code",
   "execution_count": 2,
   "id": "9b9880c9",
   "metadata": {},
   "outputs": [
    {
     "data": {
      "text/plain": [
       "{'arrayColores': [{'nombreColor': 'rojo', 'valorHexadec': '#f00'},\n",
       "  {'nombreColor': 'verde', 'valorHexadec': '#0f0'},\n",
       "  {'nombreColor': 'azul', 'valorHexadec': '#00f'},\n",
       "  {'nombreColor': 'cyan', 'valorHexadec': '#0ff'},\n",
       "  {'nombreColor': 'magenta', 'valorHexadec': '#f0f'},\n",
       "  {'nombreColor': 'amarillo', 'valorHexadec': '#ff0'},\n",
       "  {'nombreColor': 'negro', 'valorHexadec': '#000'}]}"
      ]
     },
     "execution_count": 2,
     "metadata": {},
     "output_type": "execute_result"
    }
   ],
   "source": [
    "#Lectura sin json\n",
    "{\n",
    "    \"arrayColores\":[{\n",
    "            \"nombreColor\":\"rojo\",\n",
    "            \"valorHexadec\":\"#f00\"\n",
    "        },\n",
    "        {\n",
    "            \"nombreColor\":\"verde\",\n",
    "            \"valorHexadec\":\"#0f0\"\n",
    "        },\n",
    "        {\n",
    "            \"nombreColor\":\"azul\",\n",
    "            \"valorHexadec\":\"#00f\"\n",
    "        },\n",
    "        {\n",
    "            \"nombreColor\":\"cyan\",\n",
    "            \"valorHexadec\":\"#0ff\"\n",
    "        },\n",
    "        {\n",
    "            \"nombreColor\":\"magenta\",\n",
    "            \"valorHexadec\":\"#f0f\"\n",
    "        },\n",
    "        {\n",
    "            \"nombreColor\":\"amarillo\",\n",
    "            \"valorHexadec\":\"#ff0\"\n",
    "        },\n",
    "        {\n",
    "            \"nombreColor\":\"negro\",\n",
    "            \"valorHexadec\":\"#000\"\n",
    "        }\n",
    "    ]\n",
    "}\n"
   ]
  },
  {
   "cell_type": "code",
   "execution_count": null,
   "id": "7f37a205",
   "metadata": {},
   "outputs": [],
   "source": [
    "import json\n",
    "dato= { \"arrayColores\":[\"nombreColor\":\"rojo\",  \"valorHexadec\":\"#f00\"}, {\"nombreColor\":\"verde\", \"valorHexadec\":\"#0f0\"},{\"nombreColor\":\"azul\",\"valorHexadec\":\"#00f\"}, {\"nombreColor\":\"cyan\",\n",
    "            \"valorHexadec\":\"#0ff\"\n",
    "        },\n",
    "        {\n",
    "            \"nombreColor\":\"magenta\",\n",
    "            \"valorHexadec\":\"#f0f\"\n",
    "        },\n",
    "        {\n",
    "            \"nombreColor\":\"amarillo\",\n",
    "            \"valorHexadec\":\"#ff0\"\n",
    "        },\n",
    "        {\n",
    "            \"nombreColor\":\"negro\",\n",
    "            \"valorHexadec\":\"#000\"\n",
    "        }\n",
    "    ]\n",
    "}"
   ]
  }
 ],
 "metadata": {
  "kernelspec": {
   "display_name": "Python 3 (ipykernel)",
   "language": "python",
   "name": "python3"
  },
  "language_info": {
   "codemirror_mode": {
    "name": "ipython",
    "version": 3
   },
   "file_extension": ".py",
   "mimetype": "text/x-python",
   "name": "python",
   "nbconvert_exporter": "python",
   "pygments_lexer": "ipython3",
   "version": "3.9.7"
  }
 },
 "nbformat": 4,
 "nbformat_minor": 5
}
