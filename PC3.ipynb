{
 "cells": [
  {
   "cell_type": "code",
   "execution_count": 11,
   "id": "438f7638",
   "metadata": {},
   "outputs": [
    {
     "data": {
      "text/plain": [
       "{'arrayColores': [{'celulares2015': [{'nombreColor': 'rojo',\n",
       "     'valorHexadec': '#f00',\n",
       "     'Cantidad': 10},\n",
       "    {'nombreColor': 'verde', 'valorHexadec': '#0f0', 'Cantidad': 33},\n",
       "    {'nombreColor': 'azul', 'valorHexadec': '#00f', 'Cantidad': 15}]},\n",
       "  {'celulares2018': [{'nombreColor': 'cyan',\n",
       "     'valorHexadec': '#0ff',\n",
       "     'Cantidad': 19},\n",
       "    {'nombreColor': 'magenta', 'valorHexadec': '#f0f', 'Cantidad': 15}]},\n",
       "  {'celulares2020': [{'nombreColor': 'amarillo',\n",
       "     'valorHexadec': '#ff0',\n",
       "     'Cantidad': 22},\n",
       "    {'nombreColor': 'negro', 'valorHexadec': '#000', 'Cantidad': 10}]}]}"
      ]
     },
     "execution_count": 11,
     "metadata": {},
     "output_type": "execute_result"
    }
   ],
   "source": [
    "#Lectura sin json\n",
    "{\"arrayColores\":[{ \"celulares2015\": [\n",
    "    {\"nombreColor\":\"rojo\", \"valorHexadec\":\"#f00\", \"Cantidad\":10},\n",
    "    {\"nombreColor\":\"verde\", \"valorHexadec\":\"#0f0\", \"Cantidad\":33},\n",
    "    {\"nombreColor\":\"azul\", \"valorHexadec\":\"#00f\", \"Cantidad\":15}\n",
    "   ]},\n",
    "                 \n",
    "  {\"celulares2018\":[\n",
    "      {\"nombreColor\":\"cyan\",\"valorHexadec\":\"#0ff\", \"Cantidad\":19},\n",
    "      {\"nombreColor\":\"magenta\", \"valorHexadec\":\"#f0f\", \"Cantidad\":15}\n",
    "   ]},\n",
    "  {\"celulares2020\":[\n",
    "    {\"nombreColor\":\"amarillo\", \"valorHexadec\":\"#ff0\", \"Cantidad\":22},\n",
    "    {\"nombreColor\":\"negro\",\"valorHexadec\":\"#000\", \"Cantidad\":10}\n",
    "    ]}\n",
    " ]\n",
    "}\n"
   ]
  },
  {
   "cell_type": "code",
   "execution_count": 12,
   "id": "b71e7c95",
   "metadata": {},
   "outputs": [],
   "source": [
    "import json\n",
    "dato= {\"arrayColores\":[{ \"celulares2015\": [\n",
    "    {\"nombreColor\":\"rojo\", \"valorHexadec\":\"#f00\", \"Cantidad\":10},\n",
    "    {\"nombreColor\":\"verde\", \"valorHexadec\":\"#0f0\", \"Cantidad\":33},\n",
    "    {\"nombreColor\":\"azul\", \"valorHexadec\":\"#00f\", \"Cantidad\":15}\n",
    "   ]},\n",
    "                 \n",
    "  {\"celulares2018\":[\n",
    "      {\"nombreColor\":\"cyan\",\"valorHexadec\":\"#0ff\", \"Cantidad\":19},\n",
    "      {\"nombreColor\":\"magenta\", \"valorHexadec\":\"#f0f\", \"Cantidad\":15}\n",
    "   ]},\n",
    "  {\"celulares2020\":[\n",
    "    {\"nombreColor\":\"amarillo\", \"valorHexadec\":\"#ff0\", \"Cantidad\":22},\n",
    "    {\"nombreColor\":\"negro\",\"valorHexadec\":\"#000\", \"Cantidad\":10}\n",
    "    ]}\n",
    " ]\n",
    "}"
   ]
  },
  {
   "cell_type": "code",
   "execution_count": 13,
   "id": "a4644ecc",
   "metadata": {},
   "outputs": [
    {
     "name": "stdout",
     "output_type": "stream",
     "text": [
      "ENCODED: {\"arrayColores\": [{\"celulares2015\": [{\"nombreColor\": \"rojo\", \"valorHexadec\": \"#f00\", \"Cantidad\": 10}, {\"nombreColor\": \"verde\", \"valorHexadec\": \"#0f0\", \"Cantidad\": 33}, {\"nombreColor\": \"azul\", \"valorHexadec\": \"#00f\", \"Cantidad\": 15}]}, {\"celulares2018\": [{\"nombreColor\": \"cyan\", \"valorHexadec\": \"#0ff\", \"Cantidad\": 19}, {\"nombreColor\": \"magenta\", \"valorHexadec\": \"#f0f\", \"Cantidad\": 15}]}, {\"celulares2020\": [{\"nombreColor\": \"amarillo\", \"valorHexadec\": \"#ff0\", \"Cantidad\": 22}, {\"nombreColor\": \"negro\", \"valorHexadec\": \"#000\", \"Cantidad\": 10}]}]}\n"
     ]
    }
   ],
   "source": [
    "\n",
    "dato_string = json.dumps(dato)\n",
    "print ('ENCODED:', dato_string)\n",
    "\n"
   ]
  },
  {
   "cell_type": "code",
   "execution_count": 14,
   "id": "7ff92774",
   "metadata": {},
   "outputs": [
    {
     "name": "stdout",
     "output_type": "stream",
     "text": [
      "DECODED: {'arrayColores': [{'celulares2015': [{'nombreColor': 'rojo', 'valorHexadec': '#f00', 'Cantidad': 10}, {'nombreColor': 'verde', 'valorHexadec': '#0f0', 'Cantidad': 33}, {'nombreColor': 'azul', 'valorHexadec': '#00f', 'Cantidad': 15}]}, {'celulares2018': [{'nombreColor': 'cyan', 'valorHexadec': '#0ff', 'Cantidad': 19}, {'nombreColor': 'magenta', 'valorHexadec': '#f0f', 'Cantidad': 15}]}, {'celulares2020': [{'nombreColor': 'amarillo', 'valorHexadec': '#ff0', 'Cantidad': 22}, {'nombreColor': 'negro', 'valorHexadec': '#000', 'Cantidad': 10}]}]}\n"
     ]
    }
   ],
   "source": [
    "decoded = json.loads(dato_string)\n",
    "print ('DECODED:', decoded)"
   ]
  },
  {
   "cell_type": "code",
   "execution_count": 19,
   "id": "dd792d8c",
   "metadata": {},
   "outputs": [
    {
     "name": "stdout",
     "output_type": "stream",
     "text": [
      "Tenemos 33 verdes\n"
     ]
    }
   ],
   "source": [
    "print (\"Tenemos \"+ str(decoded[\"arrayColores\"][0][\"celulares2015\"][1][\"Cantidad\"])+\" verdes\")\n"
   ]
  },
  {
   "cell_type": "code",
   "execution_count": null,
   "id": "5b0df329",
   "metadata": {},
   "outputs": [],
   "source": []
  }
 ],
 "metadata": {
  "kernelspec": {
   "display_name": "Python 3 (ipykernel)",
   "language": "python",
   "name": "python3"
  },
  "language_info": {
   "codemirror_mode": {
    "name": "ipython",
    "version": 3
   },
   "file_extension": ".py",
   "mimetype": "text/x-python",
   "name": "python",
   "nbconvert_exporter": "python",
   "pygments_lexer": "ipython3",
   "version": "3.9.7"
  }
 },
 "nbformat": 4,
 "nbformat_minor": 5
}
